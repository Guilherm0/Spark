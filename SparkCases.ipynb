{
  "nbformat": 4,
  "nbformat_minor": 0,
  "metadata": {
    "colab": {
      "provenance": [],
      "include_colab_link": true
    },
    "kernelspec": {
      "name": "python3",
      "display_name": "Python 3"
    },
    "language_info": {
      "name": "python"
    }
  },
  "cells": [
    {
      "cell_type": "markdown",
      "metadata": {
        "id": "view-in-github",
        "colab_type": "text"
      },
      "source": [
        "<a href=\"https://colab.research.google.com/github/Guilherm0/Spark/blob/main/SparkCases.ipynb\" target=\"_parent\"><img src=\"https://colab.research.google.com/assets/colab-badge.svg\" alt=\"Open In Colab\"/></a>"
      ]
    },
    {
      "cell_type": "markdown",
      "source": [
        "# **SETUP**"
      ],
      "metadata": {
        "id": "6kQXgVUDm36y"
      }
    },
    {
      "cell_type": "markdown",
      "source": [
        "## Spark UI"
      ],
      "metadata": {
        "id": "hjE_B03_m9Rt"
      }
    },
    {
      "cell_type": "code",
      "source": [
        "!pip install -q pyspark\n",
        "!pip install -q pyngrok"
      ],
      "metadata": {
        "id": "LxWd0qTjmraa",
        "colab": {
          "base_uri": "https://localhost:8080/"
        },
        "outputId": "23fb59d2-a616-45e5-ed62-cd3ddfa7cb7d"
      },
      "execution_count": null,
      "outputs": [
        {
          "output_type": "stream",
          "name": "stdout",
          "text": [
            "\u001b[2K     \u001b[90m━━━━━━━━━━━━━━━━━━━━━━━━━━━━━━━━━━━━━━━\u001b[0m \u001b[32m281.4/281.4 MB\u001b[0m \u001b[31m4.7 MB/s\u001b[0m eta \u001b[36m0:00:00\u001b[0m\n",
            "\u001b[?25h  Preparing metadata (setup.py) ... \u001b[?25l\u001b[?25hdone\n",
            "\u001b[2K     \u001b[90m━━━━━━━━━━━━━━━━━━━━━━━━━━━━━━━━━━━━━━\u001b[0m \u001b[32m199.7/199.7 KB\u001b[0m \u001b[31m13.8 MB/s\u001b[0m eta \u001b[36m0:00:00\u001b[0m\n",
            "\u001b[?25h  Building wheel for pyspark (setup.py) ... \u001b[?25l\u001b[?25hdone\n",
            "\u001b[2K     \u001b[90m━━━━━━━━━━━━━━━━━━━━━━━━━━━━━━━━━━━━━━\u001b[0m \u001b[32m761.3/761.3 KB\u001b[0m \u001b[31m35.6 MB/s\u001b[0m eta \u001b[36m0:00:00\u001b[0m\n",
            "\u001b[?25h  Preparing metadata (setup.py) ... \u001b[?25l\u001b[?25hdone\n",
            "  Building wheel for pyngrok (setup.py) ... \u001b[?25l\u001b[?25hdone\n"
          ]
        }
      ]
    },
    {
      "cell_type": "code",
      "execution_count": null,
      "metadata": {
        "colab": {
          "base_uri": "https://localhost:8080/",
          "height": 222
        },
        "id": "R3ZdnLL5e2ks",
        "outputId": "9e1a447a-d18a-4f51-e307-0b5830f152dc"
      },
      "outputs": [
        {
          "output_type": "execute_result",
          "data": {
            "text/plain": [
              "<pyspark.sql.session.SparkSession at 0x7f056f6be820>"
            ],
            "text/html": [
              "\n",
              "            <div>\n",
              "                <p><b>SparkSession - in-memory</b></p>\n",
              "                \n",
              "        <div>\n",
              "            <p><b>SparkContext</b></p>\n",
              "\n",
              "            <p><a href=\"http://c00110e734a6:4050\">Spark UI</a></p>\n",
              "\n",
              "            <dl>\n",
              "              <dt>Version</dt>\n",
              "                <dd><code>v3.3.2</code></dd>\n",
              "              <dt>Master</dt>\n",
              "                <dd><code>local[*]</code></dd>\n",
              "              <dt>AppName</dt>\n",
              "                <dd><code>pyspark-shell</code></dd>\n",
              "            </dl>\n",
              "        </div>\n",
              "        \n",
              "            </div>\n",
              "        "
            ]
          },
          "metadata": {},
          "execution_count": 2
        }
      ],
      "source": [
        "from pyspark.sql import SparkSession\n",
        "spark = SparkSession.builder.config('spark.ui.port', '4050').getOrCreate()\n",
        "spark"
      ]
    },
    {
      "cell_type": "code",
      "source": [
        "# Fazer login no site https://dashboard.ngrok.com/get-started/setup para obter autenticação própria\n",
        "ngrok_token = "
      ],
      "metadata": {
        "id": "VK5ksALRlODl"
      },
      "execution_count": null,
      "outputs": []
    },
    {
      "cell_type": "code",
      "source": [
        "get_ipython().system_raw(f'ngrok authtoken {ngrok_token}')\n",
        "get_ipython().system_raw('ngrok http 4050 &')\n",
        "!sleep 3\n",
        "print('URL para interface Spark:')\n",
        "!curl -s http://localhost:4040/api/tunnels | grep -Po 'public_url\":\"(?=https)\\K[^\"]*'"
      ],
      "metadata": {
        "colab": {
          "base_uri": "https://localhost:8080/"
        },
        "id": "gKPmX_f1gV7C",
        "outputId": "9932c8db-9dc8-49b2-a25f-e36ecd171607"
      },
      "execution_count": null,
      "outputs": [
        {
          "output_type": "stream",
          "name": "stdout",
          "text": [
            "URL para interface Spark:\n",
            "https://7eda-34-86-89-111.ngrok.io\n"
          ]
        }
      ]
    },
    {
      "cell_type": "markdown",
      "source": [
        "## Libraries"
      ],
      "metadata": {
        "id": "3hm3CvMdn3Jd"
      }
    },
    {
      "cell_type": "code",
      "source": [
        "import pandas as pd\n",
        "from google.colab import files\n",
        "\n",
        "import pyspark.sql.functions as F\n",
        "from pyspark.sql.window import Window"
      ],
      "metadata": {
        "id": "Yi82wbeZn2jT"
      },
      "execution_count": null,
      "outputs": []
    },
    {
      "cell_type": "markdown",
      "source": [
        "# Load data"
      ],
      "metadata": {
        "id": "D6PpCkDmnjOv"
      }
    },
    {
      "cell_type": "code",
      "source": [
        "# Load file\n",
        "_ = files.upload()"
      ],
      "metadata": {
        "colab": {
          "base_uri": "https://localhost:8080/",
          "height": 73
        },
        "id": "JOMjC3OennnG",
        "outputId": "e6813dbb-14e1-4adb-fbae-2a0d47f7202f"
      },
      "execution_count": null,
      "outputs": [
        {
          "output_type": "display_data",
          "data": {
            "text/plain": [
              "<IPython.core.display.HTML object>"
            ],
            "text/html": [
              "\n",
              "     <input type=\"file\" id=\"files-98f6e36f-3f78-4257-aa8f-b08a7bb1ada0\" name=\"files[]\" multiple disabled\n",
              "        style=\"border:none\" />\n",
              "     <output id=\"result-98f6e36f-3f78-4257-aa8f-b08a7bb1ada0\">\n",
              "      Upload widget is only available when the cell has been executed in the\n",
              "      current browser session. Please rerun this cell to enable.\n",
              "      </output>\n",
              "      <script>// Copyright 2017 Google LLC\n",
              "//\n",
              "// Licensed under the Apache License, Version 2.0 (the \"License\");\n",
              "// you may not use this file except in compliance with the License.\n",
              "// You may obtain a copy of the License at\n",
              "//\n",
              "//      http://www.apache.org/licenses/LICENSE-2.0\n",
              "//\n",
              "// Unless required by applicable law or agreed to in writing, software\n",
              "// distributed under the License is distributed on an \"AS IS\" BASIS,\n",
              "// WITHOUT WARRANTIES OR CONDITIONS OF ANY KIND, either express or implied.\n",
              "// See the License for the specific language governing permissions and\n",
              "// limitations under the License.\n",
              "\n",
              "/**\n",
              " * @fileoverview Helpers for google.colab Python module.\n",
              " */\n",
              "(function(scope) {\n",
              "function span(text, styleAttributes = {}) {\n",
              "  const element = document.createElement('span');\n",
              "  element.textContent = text;\n",
              "  for (const key of Object.keys(styleAttributes)) {\n",
              "    element.style[key] = styleAttributes[key];\n",
              "  }\n",
              "  return element;\n",
              "}\n",
              "\n",
              "// Max number of bytes which will be uploaded at a time.\n",
              "const MAX_PAYLOAD_SIZE = 100 * 1024;\n",
              "\n",
              "function _uploadFiles(inputId, outputId) {\n",
              "  const steps = uploadFilesStep(inputId, outputId);\n",
              "  const outputElement = document.getElementById(outputId);\n",
              "  // Cache steps on the outputElement to make it available for the next call\n",
              "  // to uploadFilesContinue from Python.\n",
              "  outputElement.steps = steps;\n",
              "\n",
              "  return _uploadFilesContinue(outputId);\n",
              "}\n",
              "\n",
              "// This is roughly an async generator (not supported in the browser yet),\n",
              "// where there are multiple asynchronous steps and the Python side is going\n",
              "// to poll for completion of each step.\n",
              "// This uses a Promise to block the python side on completion of each step,\n",
              "// then passes the result of the previous step as the input to the next step.\n",
              "function _uploadFilesContinue(outputId) {\n",
              "  const outputElement = document.getElementById(outputId);\n",
              "  const steps = outputElement.steps;\n",
              "\n",
              "  const next = steps.next(outputElement.lastPromiseValue);\n",
              "  return Promise.resolve(next.value.promise).then((value) => {\n",
              "    // Cache the last promise value to make it available to the next\n",
              "    // step of the generator.\n",
              "    outputElement.lastPromiseValue = value;\n",
              "    return next.value.response;\n",
              "  });\n",
              "}\n",
              "\n",
              "/**\n",
              " * Generator function which is called between each async step of the upload\n",
              " * process.\n",
              " * @param {string} inputId Element ID of the input file picker element.\n",
              " * @param {string} outputId Element ID of the output display.\n",
              " * @return {!Iterable<!Object>} Iterable of next steps.\n",
              " */\n",
              "function* uploadFilesStep(inputId, outputId) {\n",
              "  const inputElement = document.getElementById(inputId);\n",
              "  inputElement.disabled = false;\n",
              "\n",
              "  const outputElement = document.getElementById(outputId);\n",
              "  outputElement.innerHTML = '';\n",
              "\n",
              "  const pickedPromise = new Promise((resolve) => {\n",
              "    inputElement.addEventListener('change', (e) => {\n",
              "      resolve(e.target.files);\n",
              "    });\n",
              "  });\n",
              "\n",
              "  const cancel = document.createElement('button');\n",
              "  inputElement.parentElement.appendChild(cancel);\n",
              "  cancel.textContent = 'Cancel upload';\n",
              "  const cancelPromise = new Promise((resolve) => {\n",
              "    cancel.onclick = () => {\n",
              "      resolve(null);\n",
              "    };\n",
              "  });\n",
              "\n",
              "  // Wait for the user to pick the files.\n",
              "  const files = yield {\n",
              "    promise: Promise.race([pickedPromise, cancelPromise]),\n",
              "    response: {\n",
              "      action: 'starting',\n",
              "    }\n",
              "  };\n",
              "\n",
              "  cancel.remove();\n",
              "\n",
              "  // Disable the input element since further picks are not allowed.\n",
              "  inputElement.disabled = true;\n",
              "\n",
              "  if (!files) {\n",
              "    return {\n",
              "      response: {\n",
              "        action: 'complete',\n",
              "      }\n",
              "    };\n",
              "  }\n",
              "\n",
              "  for (const file of files) {\n",
              "    const li = document.createElement('li');\n",
              "    li.append(span(file.name, {fontWeight: 'bold'}));\n",
              "    li.append(span(\n",
              "        `(${file.type || 'n/a'}) - ${file.size} bytes, ` +\n",
              "        `last modified: ${\n",
              "            file.lastModifiedDate ? file.lastModifiedDate.toLocaleDateString() :\n",
              "                                    'n/a'} - `));\n",
              "    const percent = span('0% done');\n",
              "    li.appendChild(percent);\n",
              "\n",
              "    outputElement.appendChild(li);\n",
              "\n",
              "    const fileDataPromise = new Promise((resolve) => {\n",
              "      const reader = new FileReader();\n",
              "      reader.onload = (e) => {\n",
              "        resolve(e.target.result);\n",
              "      };\n",
              "      reader.readAsArrayBuffer(file);\n",
              "    });\n",
              "    // Wait for the data to be ready.\n",
              "    let fileData = yield {\n",
              "      promise: fileDataPromise,\n",
              "      response: {\n",
              "        action: 'continue',\n",
              "      }\n",
              "    };\n",
              "\n",
              "    // Use a chunked sending to avoid message size limits. See b/62115660.\n",
              "    let position = 0;\n",
              "    do {\n",
              "      const length = Math.min(fileData.byteLength - position, MAX_PAYLOAD_SIZE);\n",
              "      const chunk = new Uint8Array(fileData, position, length);\n",
              "      position += length;\n",
              "\n",
              "      const base64 = btoa(String.fromCharCode.apply(null, chunk));\n",
              "      yield {\n",
              "        response: {\n",
              "          action: 'append',\n",
              "          file: file.name,\n",
              "          data: base64,\n",
              "        },\n",
              "      };\n",
              "\n",
              "      let percentDone = fileData.byteLength === 0 ?\n",
              "          100 :\n",
              "          Math.round((position / fileData.byteLength) * 100);\n",
              "      percent.textContent = `${percentDone}% done`;\n",
              "\n",
              "    } while (position < fileData.byteLength);\n",
              "  }\n",
              "\n",
              "  // All done.\n",
              "  yield {\n",
              "    response: {\n",
              "      action: 'complete',\n",
              "    }\n",
              "  };\n",
              "}\n",
              "\n",
              "scope.google = scope.google || {};\n",
              "scope.google.colab = scope.google.colab || {};\n",
              "scope.google.colab._files = {\n",
              "  _uploadFiles,\n",
              "  _uploadFilesContinue,\n",
              "};\n",
              "})(self);\n",
              "</script> "
            ]
          },
          "metadata": {}
        },
        {
          "output_type": "stream",
          "name": "stdout",
          "text": [
            "Saving vgsales.csv to vgsales.csv\n"
          ]
        }
      ]
    },
    {
      "cell_type": "markdown",
      "source": [
        "## Data Description\n",
        "\n",
        "This dataset contains records of popular video games in North America, Japan, Europe and other parts of the world. Every video game in this dataset has at least 100k global sales.\n",
        "\n",
        "[Source](https://www.kaggle.com/datasets/gregorut/videogamesales/code?datasetId=284&sortBy=voteCount) of dataset."
      ],
      "metadata": {
        "id": "7Rl5rJY6AaGB"
      }
    },
    {
      "cell_type": "markdown",
      "source": [
        "## Data Dictionary\n",
        "\n",
        "| Column       | Explanation                                               |\n",
        "|:-------------|:----------------------------------------------------------|\n",
        "| Rank         | Ranking of overall sales                                  |\n",
        "| Name         | Name of the game                                          |\n",
        "| Platform     | Platform of the games release (i.e. PC,PS4, etc.)         |\n",
        "| Year         | Year the game was released in                             |\n",
        "| Genre        | Genre of the game                                         |\n",
        "| Publisher    | Publisher of the game                                     |\n",
        "| NA_Sales     | Number of sales in North America (in millions)            |\n",
        "| EU_Sales     | Number of sales in Europe (in millions)                   |\n",
        "| JP_Sales     | Number of sales in Japan (in millions)                    |\n",
        "| Other_Sales  | Number of sales in other parts of the world (in millions) |\n",
        "| Global_Sales | Number of total sales (in millions)                       |"
      ],
      "metadata": {
        "id": "UA1MxT30BH3y"
      }
    },
    {
      "cell_type": "markdown",
      "source": [
        "## Data Preview"
      ],
      "metadata": {
        "id": "thciQSj-BQlJ"
      }
    },
    {
      "cell_type": "code",
      "source": [
        "# Mostrando os dados com pandas\n",
        "pd.read_csv('vgsales.csv')"
      ],
      "metadata": {
        "colab": {
          "base_uri": "https://localhost:8080/",
          "height": 423
        },
        "id": "apXOivhfbGf7",
        "outputId": "204f66da-78ce-4630-f7f9-fbd47537a88c"
      },
      "execution_count": null,
      "outputs": [
        {
          "output_type": "execute_result",
          "data": {
            "text/plain": [
              "        Rank                                              Name Platform  \\\n",
              "0          1                                        Wii Sports      Wii   \n",
              "1          2                                 Super Mario Bros.      NES   \n",
              "2          3                                    Mario Kart Wii      Wii   \n",
              "3          4                                 Wii Sports Resort      Wii   \n",
              "4          5                          Pokemon Red/Pokemon Blue       GB   \n",
              "...      ...                                               ...      ...   \n",
              "16593  16596                Woody Woodpecker in Crazy Castle 5      GBA   \n",
              "16594  16597                     Men in Black II: Alien Escape       GC   \n",
              "16595  16598  SCORE International Baja 1000: The Official Game      PS2   \n",
              "16596  16599                                        Know How 2       DS   \n",
              "16597  16600                                  Spirits & Spells      GBA   \n",
              "\n",
              "         Year         Genre   Publisher  NA_Sales  EU_Sales  JP_Sales  \\\n",
              "0      2006.0        Sports    Nintendo     41.49     29.02      3.77   \n",
              "1      1985.0      Platform    Nintendo     29.08      3.58      6.81   \n",
              "2      2008.0        Racing    Nintendo     15.85     12.88      3.79   \n",
              "3      2009.0        Sports    Nintendo     15.75     11.01      3.28   \n",
              "4      1996.0  Role-Playing    Nintendo     11.27      8.89     10.22   \n",
              "...       ...           ...         ...       ...       ...       ...   \n",
              "16593  2002.0      Platform       Kemco      0.01      0.00      0.00   \n",
              "16594  2003.0       Shooter  Infogrames      0.01      0.00      0.00   \n",
              "16595  2008.0        Racing  Activision      0.00      0.00      0.00   \n",
              "16596  2010.0        Puzzle    7G//AMES      0.00      0.01      0.00   \n",
              "16597  2003.0      Platform     Wanadoo      0.01      0.00      0.00   \n",
              "\n",
              "       Other_Sales  Global_Sales  \n",
              "0             8.46         82.74  \n",
              "1             0.77         40.24  \n",
              "2             3.31         35.82  \n",
              "3             2.96         33.00  \n",
              "4             1.00         31.37  \n",
              "...            ...           ...  \n",
              "16593         0.00          0.01  \n",
              "16594         0.00          0.01  \n",
              "16595         0.00          0.01  \n",
              "16596         0.00          0.01  \n",
              "16597         0.00          0.01  \n",
              "\n",
              "[16598 rows x 11 columns]"
            ],
            "text/html": [
              "\n",
              "  <div id=\"df-390a71ec-d785-47bb-980a-0b9aff799b01\">\n",
              "    <div class=\"colab-df-container\">\n",
              "      <div>\n",
              "<style scoped>\n",
              "    .dataframe tbody tr th:only-of-type {\n",
              "        vertical-align: middle;\n",
              "    }\n",
              "\n",
              "    .dataframe tbody tr th {\n",
              "        vertical-align: top;\n",
              "    }\n",
              "\n",
              "    .dataframe thead th {\n",
              "        text-align: right;\n",
              "    }\n",
              "</style>\n",
              "<table border=\"1\" class=\"dataframe\">\n",
              "  <thead>\n",
              "    <tr style=\"text-align: right;\">\n",
              "      <th></th>\n",
              "      <th>Rank</th>\n",
              "      <th>Name</th>\n",
              "      <th>Platform</th>\n",
              "      <th>Year</th>\n",
              "      <th>Genre</th>\n",
              "      <th>Publisher</th>\n",
              "      <th>NA_Sales</th>\n",
              "      <th>EU_Sales</th>\n",
              "      <th>JP_Sales</th>\n",
              "      <th>Other_Sales</th>\n",
              "      <th>Global_Sales</th>\n",
              "    </tr>\n",
              "  </thead>\n",
              "  <tbody>\n",
              "    <tr>\n",
              "      <th>0</th>\n",
              "      <td>1</td>\n",
              "      <td>Wii Sports</td>\n",
              "      <td>Wii</td>\n",
              "      <td>2006.0</td>\n",
              "      <td>Sports</td>\n",
              "      <td>Nintendo</td>\n",
              "      <td>41.49</td>\n",
              "      <td>29.02</td>\n",
              "      <td>3.77</td>\n",
              "      <td>8.46</td>\n",
              "      <td>82.74</td>\n",
              "    </tr>\n",
              "    <tr>\n",
              "      <th>1</th>\n",
              "      <td>2</td>\n",
              "      <td>Super Mario Bros.</td>\n",
              "      <td>NES</td>\n",
              "      <td>1985.0</td>\n",
              "      <td>Platform</td>\n",
              "      <td>Nintendo</td>\n",
              "      <td>29.08</td>\n",
              "      <td>3.58</td>\n",
              "      <td>6.81</td>\n",
              "      <td>0.77</td>\n",
              "      <td>40.24</td>\n",
              "    </tr>\n",
              "    <tr>\n",
              "      <th>2</th>\n",
              "      <td>3</td>\n",
              "      <td>Mario Kart Wii</td>\n",
              "      <td>Wii</td>\n",
              "      <td>2008.0</td>\n",
              "      <td>Racing</td>\n",
              "      <td>Nintendo</td>\n",
              "      <td>15.85</td>\n",
              "      <td>12.88</td>\n",
              "      <td>3.79</td>\n",
              "      <td>3.31</td>\n",
              "      <td>35.82</td>\n",
              "    </tr>\n",
              "    <tr>\n",
              "      <th>3</th>\n",
              "      <td>4</td>\n",
              "      <td>Wii Sports Resort</td>\n",
              "      <td>Wii</td>\n",
              "      <td>2009.0</td>\n",
              "      <td>Sports</td>\n",
              "      <td>Nintendo</td>\n",
              "      <td>15.75</td>\n",
              "      <td>11.01</td>\n",
              "      <td>3.28</td>\n",
              "      <td>2.96</td>\n",
              "      <td>33.00</td>\n",
              "    </tr>\n",
              "    <tr>\n",
              "      <th>4</th>\n",
              "      <td>5</td>\n",
              "      <td>Pokemon Red/Pokemon Blue</td>\n",
              "      <td>GB</td>\n",
              "      <td>1996.0</td>\n",
              "      <td>Role-Playing</td>\n",
              "      <td>Nintendo</td>\n",
              "      <td>11.27</td>\n",
              "      <td>8.89</td>\n",
              "      <td>10.22</td>\n",
              "      <td>1.00</td>\n",
              "      <td>31.37</td>\n",
              "    </tr>\n",
              "    <tr>\n",
              "      <th>...</th>\n",
              "      <td>...</td>\n",
              "      <td>...</td>\n",
              "      <td>...</td>\n",
              "      <td>...</td>\n",
              "      <td>...</td>\n",
              "      <td>...</td>\n",
              "      <td>...</td>\n",
              "      <td>...</td>\n",
              "      <td>...</td>\n",
              "      <td>...</td>\n",
              "      <td>...</td>\n",
              "    </tr>\n",
              "    <tr>\n",
              "      <th>16593</th>\n",
              "      <td>16596</td>\n",
              "      <td>Woody Woodpecker in Crazy Castle 5</td>\n",
              "      <td>GBA</td>\n",
              "      <td>2002.0</td>\n",
              "      <td>Platform</td>\n",
              "      <td>Kemco</td>\n",
              "      <td>0.01</td>\n",
              "      <td>0.00</td>\n",
              "      <td>0.00</td>\n",
              "      <td>0.00</td>\n",
              "      <td>0.01</td>\n",
              "    </tr>\n",
              "    <tr>\n",
              "      <th>16594</th>\n",
              "      <td>16597</td>\n",
              "      <td>Men in Black II: Alien Escape</td>\n",
              "      <td>GC</td>\n",
              "      <td>2003.0</td>\n",
              "      <td>Shooter</td>\n",
              "      <td>Infogrames</td>\n",
              "      <td>0.01</td>\n",
              "      <td>0.00</td>\n",
              "      <td>0.00</td>\n",
              "      <td>0.00</td>\n",
              "      <td>0.01</td>\n",
              "    </tr>\n",
              "    <tr>\n",
              "      <th>16595</th>\n",
              "      <td>16598</td>\n",
              "      <td>SCORE International Baja 1000: The Official Game</td>\n",
              "      <td>PS2</td>\n",
              "      <td>2008.0</td>\n",
              "      <td>Racing</td>\n",
              "      <td>Activision</td>\n",
              "      <td>0.00</td>\n",
              "      <td>0.00</td>\n",
              "      <td>0.00</td>\n",
              "      <td>0.00</td>\n",
              "      <td>0.01</td>\n",
              "    </tr>\n",
              "    <tr>\n",
              "      <th>16596</th>\n",
              "      <td>16599</td>\n",
              "      <td>Know How 2</td>\n",
              "      <td>DS</td>\n",
              "      <td>2010.0</td>\n",
              "      <td>Puzzle</td>\n",
              "      <td>7G//AMES</td>\n",
              "      <td>0.00</td>\n",
              "      <td>0.01</td>\n",
              "      <td>0.00</td>\n",
              "      <td>0.00</td>\n",
              "      <td>0.01</td>\n",
              "    </tr>\n",
              "    <tr>\n",
              "      <th>16597</th>\n",
              "      <td>16600</td>\n",
              "      <td>Spirits &amp; Spells</td>\n",
              "      <td>GBA</td>\n",
              "      <td>2003.0</td>\n",
              "      <td>Platform</td>\n",
              "      <td>Wanadoo</td>\n",
              "      <td>0.01</td>\n",
              "      <td>0.00</td>\n",
              "      <td>0.00</td>\n",
              "      <td>0.00</td>\n",
              "      <td>0.01</td>\n",
              "    </tr>\n",
              "  </tbody>\n",
              "</table>\n",
              "<p>16598 rows × 11 columns</p>\n",
              "</div>\n",
              "      <button class=\"colab-df-convert\" onclick=\"convertToInteractive('df-390a71ec-d785-47bb-980a-0b9aff799b01')\"\n",
              "              title=\"Convert this dataframe to an interactive table.\"\n",
              "              style=\"display:none;\">\n",
              "        \n",
              "  <svg xmlns=\"http://www.w3.org/2000/svg\" height=\"24px\"viewBox=\"0 0 24 24\"\n",
              "       width=\"24px\">\n",
              "    <path d=\"M0 0h24v24H0V0z\" fill=\"none\"/>\n",
              "    <path d=\"M18.56 5.44l.94 2.06.94-2.06 2.06-.94-2.06-.94-.94-2.06-.94 2.06-2.06.94zm-11 1L8.5 8.5l.94-2.06 2.06-.94-2.06-.94L8.5 2.5l-.94 2.06-2.06.94zm10 10l.94 2.06.94-2.06 2.06-.94-2.06-.94-.94-2.06-.94 2.06-2.06.94z\"/><path d=\"M17.41 7.96l-1.37-1.37c-.4-.4-.92-.59-1.43-.59-.52 0-1.04.2-1.43.59L10.3 9.45l-7.72 7.72c-.78.78-.78 2.05 0 2.83L4 21.41c.39.39.9.59 1.41.59.51 0 1.02-.2 1.41-.59l7.78-7.78 2.81-2.81c.8-.78.8-2.07 0-2.86zM5.41 20L4 18.59l7.72-7.72 1.47 1.35L5.41 20z\"/>\n",
              "  </svg>\n",
              "      </button>\n",
              "      \n",
              "  <style>\n",
              "    .colab-df-container {\n",
              "      display:flex;\n",
              "      flex-wrap:wrap;\n",
              "      gap: 12px;\n",
              "    }\n",
              "\n",
              "    .colab-df-convert {\n",
              "      background-color: #E8F0FE;\n",
              "      border: none;\n",
              "      border-radius: 50%;\n",
              "      cursor: pointer;\n",
              "      display: none;\n",
              "      fill: #1967D2;\n",
              "      height: 32px;\n",
              "      padding: 0 0 0 0;\n",
              "      width: 32px;\n",
              "    }\n",
              "\n",
              "    .colab-df-convert:hover {\n",
              "      background-color: #E2EBFA;\n",
              "      box-shadow: 0px 1px 2px rgba(60, 64, 67, 0.3), 0px 1px 3px 1px rgba(60, 64, 67, 0.15);\n",
              "      fill: #174EA6;\n",
              "    }\n",
              "\n",
              "    [theme=dark] .colab-df-convert {\n",
              "      background-color: #3B4455;\n",
              "      fill: #D2E3FC;\n",
              "    }\n",
              "\n",
              "    [theme=dark] .colab-df-convert:hover {\n",
              "      background-color: #434B5C;\n",
              "      box-shadow: 0px 1px 3px 1px rgba(0, 0, 0, 0.15);\n",
              "      filter: drop-shadow(0px 1px 2px rgba(0, 0, 0, 0.3));\n",
              "      fill: #FFFFFF;\n",
              "    }\n",
              "  </style>\n",
              "\n",
              "      <script>\n",
              "        const buttonEl =\n",
              "          document.querySelector('#df-390a71ec-d785-47bb-980a-0b9aff799b01 button.colab-df-convert');\n",
              "        buttonEl.style.display =\n",
              "          google.colab.kernel.accessAllowed ? 'block' : 'none';\n",
              "\n",
              "        async function convertToInteractive(key) {\n",
              "          const element = document.querySelector('#df-390a71ec-d785-47bb-980a-0b9aff799b01');\n",
              "          const dataTable =\n",
              "            await google.colab.kernel.invokeFunction('convertToInteractive',\n",
              "                                                     [key], {});\n",
              "          if (!dataTable) return;\n",
              "\n",
              "          const docLinkHtml = 'Like what you see? Visit the ' +\n",
              "            '<a target=\"_blank\" href=https://colab.research.google.com/notebooks/data_table.ipynb>data table notebook</a>'\n",
              "            + ' to learn more about interactive tables.';\n",
              "          element.innerHTML = '';\n",
              "          dataTable['output_type'] = 'display_data';\n",
              "          await google.colab.output.renderOutput(dataTable, element);\n",
              "          const docLink = document.createElement('div');\n",
              "          docLink.innerHTML = docLinkHtml;\n",
              "          element.appendChild(docLink);\n",
              "        }\n",
              "      </script>\n",
              "    </div>\n",
              "  </div>\n",
              "  "
            ]
          },
          "metadata": {},
          "execution_count": 8
        }
      ]
    },
    {
      "cell_type": "markdown",
      "source": [
        "# Questões"
      ],
      "metadata": {
        "id": "3Da460witUFZ"
      }
    },
    {
      "cell_type": "markdown",
      "source": [
        "## Questão 1\n",
        "\n",
        "Leia os dados com Spark, certificando-se que\n",
        "\n",
        "1. A tabela tenha duas partições e\n",
        "\n",
        "2. As colunas da tabela tenham este respectivo schema:\n",
        "\n",
        "|Column|Data type|\n",
        "|---|---|\n",
        "|Rank|integer|\n",
        "|Name|string|\n",
        "|Platform|string|\n",
        "|Year|integer|\n",
        "|Genre|string|\n",
        "|Publisher|string|\n",
        "|NA_Sales|double|\n",
        "|EU_Sales|double|\n",
        "|JP_Sales|double|\n",
        "|Other_Sales|double|\n",
        "|Global_Sales|double|"
      ],
      "metadata": {
        "id": "MS3XUkPRrOzh"
      }
    },
    {
      "cell_type": "code",
      "source": [
        "df = spark.read.csv('vgsales.csv', header=True, inferSchema=True)\n",
        "df = df.withColumn('Year', F.col('Year').cast('int'))\n",
        "df = df.repartition(2)"
      ],
      "metadata": {
        "id": "ijg3-iMHr-_C"
      },
      "execution_count": null,
      "outputs": []
    },
    {
      "cell_type": "code",
      "source": [
        "print('Num partitions:', df.rdd.getNumPartitions())\n",
        "df.printSchema()"
      ],
      "metadata": {
        "colab": {
          "base_uri": "https://localhost:8080/"
        },
        "id": "5z1aq49CrG9c",
        "outputId": "39cc5a4b-cfcd-4b9f-80f3-f6ff95174dc0"
      },
      "execution_count": null,
      "outputs": [
        {
          "output_type": "stream",
          "name": "stdout",
          "text": [
            "Num partitions: 2\n",
            "root\n",
            " |-- Rank: integer (nullable = true)\n",
            " |-- Name: string (nullable = true)\n",
            " |-- Platform: string (nullable = true)\n",
            " |-- Year: integer (nullable = true)\n",
            " |-- Genre: string (nullable = true)\n",
            " |-- Publisher: string (nullable = true)\n",
            " |-- NA_Sales: double (nullable = true)\n",
            " |-- EU_Sales: double (nullable = true)\n",
            " |-- JP_Sales: double (nullable = true)\n",
            " |-- Other_Sales: double (nullable = true)\n",
            " |-- Global_Sales: double (nullable = true)\n",
            "\n"
          ]
        }
      ]
    },
    {
      "cell_type": "markdown",
      "source": [
        "## Questão 2\n",
        "\n",
        "Construa uma tabela com:\n",
        "- contagem das observações\n",
        "- média\n",
        "- desvio padrão\n",
        "- valor mínimo\n",
        "- valor máximo\n",
        "\n",
        "para todas as coluna de vendas (que possuem \"Sales\" no nome).\n",
        "\n",
        "**Dica:** uma **única função** consegue calcular todos estes valores."
      ],
      "metadata": {
        "id": "GJe0H1AQsL15"
      }
    },
    {
      "cell_type": "code",
      "source": [
        "# option 1\n",
        "sales_columns = ['NA_Sales', 'EU_Sales', 'JP_Sales', 'Other_Sales', 'Global_Sales']\n",
        "df.select(sales_columns).describe().show()"
      ],
      "metadata": {
        "colab": {
          "base_uri": "https://localhost:8080/"
        },
        "id": "viUjTEnSoMmW",
        "outputId": "8ec0ea81-af33-42e3-f469-51c3fb81d317"
      },
      "execution_count": null,
      "outputs": [
        {
          "output_type": "stream",
          "name": "stdout",
          "text": [
            "+-------+------------------+-------------------+-------------------+--------------------+------------------+\n",
            "|summary|          NA_Sales|           EU_Sales|           JP_Sales|         Other_Sales|      Global_Sales|\n",
            "+-------+------------------+-------------------+-------------------+--------------------+------------------+\n",
            "|  count|             16598|              16598|              16598|               16598|             16598|\n",
            "|   mean|0.2646674298108155|0.14665200626581024|0.07778166044101428|0.048063019640918934|0.5374406555006714|\n",
            "| stddev|0.8166830292988791| 0.5053512312869121| 0.3092906480822032| 0.18858840291271461|1.5550279355699124|\n",
            "|    min|               0.0|                0.0|                0.0|                 0.0|              0.01|\n",
            "|    max|             41.49|              29.02|              10.22|               10.57|             82.74|\n",
            "+-------+------------------+-------------------+-------------------+--------------------+------------------+\n",
            "\n"
          ]
        }
      ]
    },
    {
      "cell_type": "code",
      "source": [
        "# option 2\n",
        "sales_columns = [col for col in df.columns if 'Sales' in col]\n",
        "df.select(sales_columns).describe().show()"
      ],
      "metadata": {
        "colab": {
          "base_uri": "https://localhost:8080/"
        },
        "id": "nScju0NFsO-0",
        "outputId": "97fd8632-fa61-4745-e4f5-ed70637312ca"
      },
      "execution_count": null,
      "outputs": [
        {
          "output_type": "stream",
          "name": "stdout",
          "text": [
            "+-------+------------------+-------------------+-------------------+--------------------+------------------+\n",
            "|summary|          NA_Sales|           EU_Sales|           JP_Sales|         Other_Sales|      Global_Sales|\n",
            "+-------+------------------+-------------------+-------------------+--------------------+------------------+\n",
            "|  count|             16598|              16598|              16598|               16598|             16598|\n",
            "|   mean|0.2646674298108155|0.14665200626581024|0.07778166044101428|0.048063019640918934|0.5374406555006714|\n",
            "| stddev|0.8166830292988791| 0.5053512312869121| 0.3092906480822032| 0.18858840291271461|1.5550279355699124|\n",
            "|    min|               0.0|                0.0|                0.0|                 0.0|              0.01|\n",
            "|    max|             41.49|              29.02|              10.22|               10.57|             82.74|\n",
            "+-------+------------------+-------------------+-------------------+--------------------+------------------+\n",
            "\n"
          ]
        }
      ]
    },
    {
      "cell_type": "markdown",
      "source": [
        "## Questão 3\n",
        "\n",
        "Para cada variável categórica do tipo string, calcule quantas categorias distintas estão presentes."
      ],
      "metadata": {
        "id": "qw6Yw6OELil0"
      }
    },
    {
      "cell_type": "code",
      "source": [
        "# Option 1\n",
        "df.select(\n",
        "    F.count_distinct('Name'),\n",
        "    F.count_distinct('Platform'),\n",
        "    F.count_distinct('Genre'),\n",
        "    F.count_distinct('Publisher')\n",
        ").show()"
      ],
      "metadata": {
        "colab": {
          "base_uri": "https://localhost:8080/"
        },
        "id": "qNigdHrgnyR_",
        "outputId": "7c9b484e-7120-4292-8617-595c59c9f23a"
      },
      "execution_count": null,
      "outputs": [
        {
          "output_type": "stream",
          "name": "stdout",
          "text": [
            "+--------------------+------------------------+---------------------+-------------------------+\n",
            "|count(DISTINCT Name)|count(DISTINCT Platform)|count(DISTINCT Genre)|count(DISTINCT Publisher)|\n",
            "+--------------------+------------------------+---------------------+-------------------------+\n",
            "|               11493|                      31|                   12|                      579|\n",
            "+--------------------+------------------------+---------------------+-------------------------+\n",
            "\n"
          ]
        }
      ]
    },
    {
      "cell_type": "code",
      "source": [
        "# Option 2\n",
        "string_cols = ['Name','Platform','Genre','Publisher']\n",
        "df.select([F.count_distinct(col) for col in string_cols]).show()"
      ],
      "metadata": {
        "colab": {
          "base_uri": "https://localhost:8080/"
        },
        "id": "_kd2Vpzunjlj",
        "outputId": "3e23e0eb-c28e-449a-b3dc-8bfe44647f71"
      },
      "execution_count": null,
      "outputs": [
        {
          "output_type": "stream",
          "name": "stdout",
          "text": [
            "+--------------------+------------------------+---------------------+-------------------------+\n",
            "|count(DISTINCT Name)|count(DISTINCT Platform)|count(DISTINCT Genre)|count(DISTINCT Publisher)|\n",
            "+--------------------+------------------------+---------------------+-------------------------+\n",
            "|               11493|                      31|                   12|                      579|\n",
            "+--------------------+------------------------+---------------------+-------------------------+\n",
            "\n"
          ]
        }
      ]
    },
    {
      "cell_type": "code",
      "source": [
        "# Option 3\n",
        "string_cols = [field['name'] for field in df.schema.jsonValue()['fields'] if field['type']=='string']\n",
        "df.select([F.count_distinct(col) for col in string_cols]).show()"
      ],
      "metadata": {
        "colab": {
          "base_uri": "https://localhost:8080/"
        },
        "id": "QfwGCLbOLh4x",
        "outputId": "a72cf5d1-0f8b-43b0-b42a-be0655b878b3"
      },
      "execution_count": null,
      "outputs": [
        {
          "output_type": "stream",
          "name": "stdout",
          "text": [
            "+--------------------+------------------------+---------------------+-------------------------+\n",
            "|count(DISTINCT Name)|count(DISTINCT Platform)|count(DISTINCT Genre)|count(DISTINCT Publisher)|\n",
            "+--------------------+------------------------+---------------------+-------------------------+\n",
            "|               11493|                      31|                   12|                      579|\n",
            "+--------------------+------------------------+---------------------+-------------------------+\n",
            "\n"
          ]
        }
      ]
    },
    {
      "cell_type": "markdown",
      "source": [
        "**Resposta:** A região da Europa e \"Outras regiões\" tiverem um aumento notável quando comparado ao ínicio da década de 90."
      ],
      "metadata": {
        "id": "L6nphScqOFEd"
      }
    },
    {
      "cell_type": "markdown",
      "source": [
        "## Questão 4\n",
        "\n",
        "Qual plataforma vendeu mais, mundialmente, considerando todo o período histórico diponível dos dados?  \n",
        "Mostre as top 10 plataformas em vendas."
      ],
      "metadata": {
        "id": "qlb1nF-0UTby"
      }
    },
    {
      "cell_type": "code",
      "source": [
        "(\n",
        "  df\n",
        " .groupby('Platform')\n",
        " .agg(F.sum('Global_Sales').alias('global_sales_sum'))\n",
        " .orderBy(F.desc('global_sales_sum'))\n",
        " .limit(10)\n",
        " .show()\n",
        " )"
      ],
      "metadata": {
        "colab": {
          "base_uri": "https://localhost:8080/"
        },
        "id": "NaMADuZrUSzh",
        "outputId": "6a07a275-d43f-4590-df4b-e4dc9565f0cb"
      },
      "execution_count": null,
      "outputs": [
        {
          "output_type": "stream",
          "name": "stdout",
          "text": [
            "+--------+------------------+\n",
            "|Platform|  global_sales_sum|\n",
            "+--------+------------------+\n",
            "|     PS2|1255.6399999999956|\n",
            "|    X360| 979.9600000000003|\n",
            "|     PS3| 957.8400000000025|\n",
            "|     Wii| 926.7099999999973|\n",
            "|      DS| 822.4899999999982|\n",
            "|      PS| 730.6599999999992|\n",
            "|     GBA|318.49999999999943|\n",
            "|     PSP| 296.2799999999996|\n",
            "|     PS4| 278.0999999999999|\n",
            "|      PC|258.82000000000085|\n",
            "+--------+------------------+\n",
            "\n"
          ]
        }
      ]
    },
    {
      "cell_type": "markdown",
      "source": [
        "## Questão 5\n",
        "\n",
        "Faça uma tabela com os jogos que aparecem em múltiplas plataformas, ordene de forma que os jogos com mais plataformas apareçam primeiro e responda:\n",
        "- Qual jogo aparece em mais plataformas? Em quantas plataformas?"
      ],
      "metadata": {
        "id": "ktxA1kpuT1ak"
      }
    },
    {
      "cell_type": "code",
      "source": [
        "(\n",
        " df\n",
        " .groupby('Name')\n",
        " .agg(F.countDistinct('Platform').alias('n_platform'))\n",
        " .orderBy(F.desc('n_platform'))\n",
        " .limit(10)\n",
        " .show(truncate=False)\n",
        ")"
      ],
      "metadata": {
        "colab": {
          "base_uri": "https://localhost:8080/"
        },
        "id": "SIBb9zRjUN6r",
        "outputId": "266ca711-22ee-4391-8e9c-62b1777f707e"
      },
      "execution_count": null,
      "outputs": [
        {
          "output_type": "stream",
          "name": "stdout",
          "text": [
            "+----------------------------+----------+\n",
            "|Name                        |n_platform|\n",
            "+----------------------------+----------+\n",
            "|Need for Speed: Most Wanted |10        |\n",
            "|LEGO Marvel Super Heroes    |9         |\n",
            "|Madden NFL 07               |9         |\n",
            "|Ratatouille                 |9         |\n",
            "|FIFA 14                     |9         |\n",
            "|Lego Batman 3: Beyond Gotham|8         |\n",
            "|Terraria                    |8         |\n",
            "|Monopoly                    |8         |\n",
            "|LEGO Jurassic World         |8         |\n",
            "|Madden NFL 08               |8         |\n",
            "+----------------------------+----------+\n",
            "\n"
          ]
        }
      ]
    },
    {
      "cell_type": "markdown",
      "source": [
        "**Resposta:** Need for Speed: Most Wanted. Aparece em 10 plataformas."
      ],
      "metadata": {
        "id": "0jxfWN5sVPy0"
      }
    },
    {
      "cell_type": "markdown",
      "source": [
        "## Questão 6\n",
        "\n",
        "Utilize a API do Pandas no Spark para calcular a soma das vendas globais para cada ano e gênro de jogo. Faça então um gráfico de linhas com os anos no eixo `x`, as vendas no eixo `y`, de forma que cada linha corresponda a um gênero de jogo.\n",
        "\n",
        "**Dica:** após o cálculo, passar os dados para Pandas antes da plotagem, ou plotar diretamente aproveitando os métodos da classe `pyspark.pandas.DataFrame`.\n",
        "\n",
        "Analise o gráfico e responda:\n",
        "- Entre 1980 e 1990, quais gêneros mais venderam?\n",
        "- Entre 2000 e 2015, quais gêneros mais venderam?"
      ],
      "metadata": {
        "id": "KTKsAT2KUVgZ"
      }
    },
    {
      "cell_type": "code",
      "source": [
        "(\n",
        "  df\n",
        " .pandas_api()\n",
        " .groupby(['Year','Genre'])[['Global_Sales']].sum()\n",
        " .sort_index()\n",
        " .reset_index()\n",
        " .plot.line(x='Year', y='Global_Sales', color='Genre')\n",
        " .update_layout(title='Genre global sales through time', template='plotly_white')\n",
        ")"
      ],
      "metadata": {
        "colab": {
          "base_uri": "https://localhost:8080/",
          "height": 542
        },
        "id": "lcW8MiPZUU7g",
        "outputId": "e649440a-60c5-4222-bf5f-94a84c2eadc4"
      },
      "execution_count": null,
      "outputs": [
        {
          "output_type": "display_data",
          "data": {
            "text/html": [
              "<html>\n",
              "<head><meta charset=\"utf-8\" /></head>\n",
              "<body>\n",
              "    <div>            <script src=\"https://cdnjs.cloudflare.com/ajax/libs/mathjax/2.7.5/MathJax.js?config=TeX-AMS-MML_SVG\"></script><script type=\"text/javascript\">if (window.MathJax) {MathJax.Hub.Config({SVG: {font: \"STIX-Web\"}});}</script>                <script type=\"text/javascript\">window.PlotlyConfig = {MathJaxConfig: 'local'};</script>\n",
              "        <script src=\"https://cdn.plot.ly/plotly-2.8.3.min.js\"></script>                <div id=\"d9f62cef-b714-4bc4-a477-a604b873a857\" class=\"plotly-graph-div\" style=\"height:525px; width:100%;\"></div>            <script type=\"text/javascript\">                                    window.PLOTLYENV=window.PLOTLYENV || {};                                    if (document.getElementById(\"d9f62cef-b714-4bc4-a477-a604b873a857\")) {                    Plotly.newPlot(                        \"d9f62cef-b714-4bc4-a477-a604b873a857\",                        [{\"hovertemplate\":\"Genre=Action<br>Year=%{x}<br>Global_Sales=%{y}<extra></extra>\",\"legendgroup\":\"Action\",\"line\":{\"color\":\"#636efa\",\"dash\":\"solid\"},\"marker\":{\"symbol\":\"circle\"},\"mode\":\"lines\",\"name\":\"Action\",\"orientation\":\"v\",\"showlegend\":true,\"x\":[1980,1981,1982,1983,1984,1985,1986,1987,1988,1989,1990,1991,1992,1993,1994,1995,1996,1997,1998,1999,2000,2001,2002,2003,2004,2005,2006,2007,2008,2009,2010,2011,2012,2013,2014,2015,2016,2017],\"xaxis\":\"x\",\"y\":[0.34,14.84,6.52,2.8600000000000003,1.85,3.52,13.74,1.12,1.75,4.64,6.390000000000001,6.760000000000001,3.83,1.81,1.55,3.57,20.58,27.58,39.440000000000005,27.779999999999998,34.04,59.39,86.77000000000001,67.92999999999999,76.26,85.68999999999997,66.58,106.5,136.39000000000001,139.36000000000013,117.63999999999994,118.95999999999998,122.0400000000001,125.22,99.02000000000002,70.70000000000006,19.909999999999997,0.01],\"yaxis\":\"y\",\"type\":\"scatter\"},{\"hovertemplate\":\"Genre=Fighting<br>Year=%{x}<br>Global_Sales=%{y}<extra></extra>\",\"legendgroup\":\"Fighting\",\"line\":{\"color\":\"#EF553B\",\"dash\":\"solid\"},\"marker\":{\"symbol\":\"circle\"},\"mode\":\"lines\",\"name\":\"Fighting\",\"orientation\":\"v\",\"showlegend\":true,\"x\":[1980,1985,1987,1991,1992,1993,1994,1995,1996,1997,1998,1999,2000,2001,2002,2003,2004,2005,2006,2007,2008,2009,2010,2011,2012,2013,2014,2015,2016],\"xaxis\":\"x\",\"y\":[0.77,1.05,5.42,0.39,15.25,8.75,8.469999999999999,14.85,18.06,11.76,31.66,14.259999999999998,20.22,18.119999999999997,25.020000000000007,23.730000000000004,16.78,19.72,22.549999999999997,17.61,35.379999999999995,32.150000000000006,14.889999999999997,22.68,9.509999999999998,7.21,16.15,7.78,3.8600000000000003],\"yaxis\":\"y\",\"type\":\"scatter\"},{\"hovertemplate\":\"Genre=Misc<br>Year=%{x}<br>Global_Sales=%{y}<extra></extra>\",\"legendgroup\":\"Misc\",\"line\":{\"color\":\"#00cc96\",\"dash\":\"solid\"},\"marker\":{\"symbol\":\"circle\"},\"mode\":\"lines\",\"name\":\"Misc\",\"orientation\":\"v\",\"showlegend\":true,\"x\":[1980,1982,1983,1984,1989,1991,1992,1993,1994,1995,1996,1997,1998,1999,2000,2001,2002,2003,2004,2005,2006,2007,2008,2009,2010,2011,2012,2013,2014,2015,2016],\"xaxis\":\"x\",\"y\":[2.71,0.87,2.14,1.45,1.28,0.08,4.9399999999999995,0.3,2.8600000000000003,6.3999999999999995,10.68,5.69,11.94,20.65,15.54,16.4,15.670000000000002,23.82,31.32,61.239999999999974,67.35000000000001,92.27000000000001,87.03000000000003,76.93999999999997,96.85999999999999,56.08,22.919999999999998,25.650000000000002,23.679999999999996,11.690000000000001,1.1700000000000002],\"yaxis\":\"y\",\"type\":\"scatter\"},{\"hovertemplate\":\"Genre=Shooter<br>Year=%{x}<br>Global_Sales=%{y}<extra></extra>\",\"legendgroup\":\"Shooter\",\"line\":{\"color\":\"#ab63fa\",\"dash\":\"solid\"},\"marker\":{\"symbol\":\"circle\"},\"mode\":\"lines\",\"name\":\"Shooter\",\"orientation\":\"v\",\"showlegend\":true,\"x\":[1980,1981,1982,1983,1984,1985,1986,1987,1988,1989,1991,1992,1993,1994,1995,1996,1997,1998,1999,2000,2001,2002,2003,2004,2005,2006,2007,2008,2009,2010,2011,2012,2013,2014,2015,2016],\"xaxis\":\"x\",\"y\":[7.069999999999999,10.04,3.79,0.48,31.099999999999998,1.0,3.8900000000000006,0.71,0.51,1.2,2.0,0.29000000000000004,3.08,8.3,4.15,6.91,22.169999999999995,9.799999999999999,12.25,6.809999999999999,24.77,48.58,27.14,46.95,41.59999999999998,38.36999999999999,71.03999999999999,59.509999999999984,69.88999999999999,77.41,99.35999999999999,72.85999999999999,62.79999999999999,66.0,66.14999999999999,18.22],\"yaxis\":\"y\",\"type\":\"scatter\"},{\"hovertemplate\":\"Genre=Sports<br>Year=%{x}<br>Global_Sales=%{y}<extra></extra>\",\"legendgroup\":\"Sports\",\"line\":{\"color\":\"#FFA15A\",\"dash\":\"solid\"},\"marker\":{\"symbol\":\"circle\"},\"mode\":\"lines\",\"name\":\"Sports\",\"orientation\":\"v\",\"showlegend\":true,\"x\":[1980,1981,1982,1983,1984,1985,1986,1987,1988,1989,1990,1991,1992,1993,1994,1995,1996,1997,1998,1999,2000,2001,2002,2003,2004,2005,2006,2007,2008,2009,2010,2011,2012,2013,2014,2015,2016],\"xaxis\":\"x\",\"y\":[0.49,0.7899999999999999,1.05,3.2,6.18,1.96,5.57,3.7199999999999998,3.5999999999999996,5.720000000000001,2.11,2.41,2.95,3.18,8.39,7.9799999999999995,17.45,30.02,41.79,30.29,41.19,51.42999999999999,65.42000000000002,56.11,63.680000000000014,59.54,136.16000000000005,98.20000000000003,95.33999999999997,138.51999999999998,92.53,56.989999999999995,30.929999999999996,41.55000000000001,46.66,41.540000000000006,14.6],\"yaxis\":\"y\",\"type\":\"scatter\"},{\"hovertemplate\":\"Genre=Platform<br>Year=%{x}<br>Global_Sales=%{y}<extra></extra>\",\"legendgroup\":\"Platform\",\"line\":{\"color\":\"#19d3f3\",\"dash\":\"solid\"},\"marker\":{\"symbol\":\"circle\"},\"mode\":\"lines\",\"name\":\"Platform\",\"orientation\":\"v\",\"showlegend\":true,\"x\":[1981,1982,1983,1984,1985,1986,1987,1988,1989,1990,1991,1992,1993,1994,1995,1996,1997,1998,1999,2000,2001,2002,2003,2004,2005,2006,2007,2008,2009,2010,2011,2012,2013,2014,2015,2016],\"xaxis\":\"x\",\"y\":[6.93,5.03,6.93,0.69,43.17,9.39,1.7400000000000002,27.73,20.660000000000004,22.97,7.64,13.42,18.67,28.740000000000002,16.689999999999998,28.230000000000004,21.85,29.88,20.82,16.060000000000002,39.28,45.97,42.890000000000015,47.339999999999996,23.560000000000002,49.80000000000001,35.589999999999996,35.699999999999996,41.089999999999996,31.900000000000006,28.109999999999992,18.55,25.120000000000005,8.89,6.049999999999999,2.07],\"yaxis\":\"y\",\"type\":\"scatter\"},{\"hovertemplate\":\"Genre=Puzzle<br>Year=%{x}<br>Global_Sales=%{y}<extra></extra>\",\"legendgroup\":\"Puzzle\",\"line\":{\"color\":\"#FF6692\",\"dash\":\"solid\"},\"marker\":{\"symbol\":\"circle\"},\"mode\":\"lines\",\"name\":\"Puzzle\",\"orientation\":\"v\",\"showlegend\":true,\"x\":[1981,1982,1983,1984,1985,1988,1989,1990,1991,1992,1993,1994,1995,1996,1997,1998,1999,2000,2001,2002,2003,2004,2005,2006,2007,2008,2009,2010,2011,2012,2013,2014,2015],\"xaxis\":\"x\",\"y\":[2.2399999999999998,10.03,0.78,3.14,3.2100000000000004,5.58,37.75,6.0,3.2399999999999998,4.84,3.17,1.53,2.71,3.91,5.89,6.34,1.3599999999999999,3.82,8.0,5.34,2.42,8.43,20.450000000000003,10.899999999999995,23.99999999999999,15.589999999999998,20.309999999999995,11.180000000000001,5.109999999999999,1.76,0.99,1.5,0.7000000000000001],\"yaxis\":\"y\",\"type\":\"scatter\"},{\"hovertemplate\":\"Genre=Racing<br>Year=%{x}<br>Global_Sales=%{y}<extra></extra>\",\"legendgroup\":\"Racing\",\"line\":{\"color\":\"#B6E880\",\"dash\":\"solid\"},\"marker\":{\"symbol\":\"circle\"},\"mode\":\"lines\",\"name\":\"Racing\",\"orientation\":\"v\",\"showlegend\":true,\"x\":[1981,1982,1984,1986,1988,1990,1991,1992,1993,1994,1995,1996,1997,1998,1999,2000,2001,2002,2003,2004,2005,2006,2007,2008,2009,2010,2011,2012,2013,2014,2015,2016],\"xaxis\":\"x\",\"y\":[0.48,1.5699999999999998,5.949999999999999,1.96,2.14,6.26,1.14,9.04,0.36,2.1900000000000004,6.09,28.239999999999995,31.91,27.9,37.269999999999996,19.990000000000002,55.81000000000002,30.20000000000001,52.18999999999999,47.860000000000014,56.42,34.09,39.169999999999995,70.66000000000001,34.18999999999999,34.93,35.01,14.46,13.04,16.689999999999998,7.92,1.6400000000000001],\"yaxis\":\"y\",\"type\":\"scatter\"},{\"hovertemplate\":\"Genre=Simulation<br>Year=%{x}<br>Global_Sales=%{y}<extra></extra>\",\"legendgroup\":\"Simulation\",\"line\":{\"color\":\"#FF97FF\",\"dash\":\"solid\"},\"marker\":{\"symbol\":\"circle\"},\"mode\":\"lines\",\"name\":\"Simulation\",\"orientation\":\"v\",\"showlegend\":true,\"x\":[1981,1985,1988,1990,1991,1992,1993,1994,1995,1996,1997,1998,1999,2000,2001,2002,2003,2004,2005,2006,2007,2008,2009,2010,2011,2012,2013,2014,2015,2016,2020],\"xaxis\":\"x\",\"y\":[0.45,0.03,0.03,1.14,2.14,2.14,0.19,2.7300000000000004,4.18,11.33,9.649999999999999,7.109999999999999,11.440000000000001,3.38,19.54,10.809999999999999,21.210000000000004,10.850000000000001,49.269999999999996,21.769999999999996,48.97,46.75999999999999,33.70999999999999,22.15,15.28,13.38,8.67,5.550000000000001,5.619999999999999,0.38999999999999996,0.29],\"yaxis\":\"y\",\"type\":\"scatter\"},{\"hovertemplate\":\"Genre=Adventure<br>Year=%{x}<br>Global_Sales=%{y}<extra></extra>\",\"legendgroup\":\"Adventure\",\"line\":{\"color\":\"#FECB52\",\"dash\":\"solid\"},\"marker\":{\"symbol\":\"circle\"},\"mode\":\"lines\",\"name\":\"Adventure\",\"orientation\":\"v\",\"showlegend\":true,\"x\":[1983,1987,1991,1992,1993,1994,1995,1996,1997,1998,1999,2000,2001,2002,2003,2004,2005,2006,2007,2008,2009,2010,2011,2012,2013,2014,2015,2016],\"xaxis\":\"x\",\"y\":[0.4,4.38,2.24,12.239999999999998,0.07,3.74,0.72,4.19,4.96,9.05,7.6,2.9800000000000004,9.12,11.05,2.14,8.7,8.530000000000001,11.469999999999999,24.47,25.020000000000007,20.67999999999999,16.569999999999993,15.979999999999997,5.989999999999998,6.609999999999998,6.059999999999997,8.03,1.8100000000000003],\"yaxis\":\"y\",\"type\":\"scatter\"},{\"hovertemplate\":\"Genre=Role-Playing<br>Year=%{x}<br>Global_Sales=%{y}<extra></extra>\",\"legendgroup\":\"Role-Playing\",\"line\":{\"color\":\"#636efa\",\"dash\":\"solid\"},\"marker\":{\"symbol\":\"circle\"},\"mode\":\"lines\",\"name\":\"Role-Playing\",\"orientation\":\"v\",\"showlegend\":true,\"x\":[1986,1987,1988,1989,1990,1991,1992,1993,1994,1995,1996,1997,1998,1999,2000,2001,2002,2003,2004,2005,2006,2007,2008,2009,2010,2011,2012,2013,2014,2015,2016,2017],\"xaxis\":\"x\",\"y\":[2.52,4.65,5.88,2.2,4.52,3.25,6.859999999999999,5.59,7.110000000000001,14.260000000000002,43.96000000000001,21.79,28.090000000000003,49.09,29.03,22.06,45.13,30.279999999999994,53.95,28.549999999999997,57.730000000000004,43.89,59.83,47.900000000000006,70.52,53.370000000000005,47.81,44.92,45.860000000000014,36.44,6.76,0.04],\"yaxis\":\"y\",\"type\":\"scatter\"},{\"hovertemplate\":\"Genre=Strategy<br>Year=%{x}<br>Global_Sales=%{y}<extra></extra>\",\"legendgroup\":\"Strategy\",\"line\":{\"color\":\"#EF553B\",\"dash\":\"solid\"},\"marker\":{\"symbol\":\"circle\"},\"mode\":\"lines\",\"name\":\"Strategy\",\"orientation\":\"v\",\"showlegend\":true,\"x\":[1991,1992,1993,1994,1995,1996,1997,1998,1999,2000,2001,2002,2003,2004,2005,2006,2007,2008,2009,2010,2011,2012,2013,2014,2015,2016],\"xaxis\":\"x\",\"y\":[0.94,0.36,0.81,3.56,6.51,5.609999999999999,7.710000000000001,13.47,18.46,8.5,7.549999999999999,5.56,7.990000000000001,7.1899999999999995,5.37,4.270000000000001,9.419999999999996,11.689999999999998,12.559999999999997,13.869999999999994,9.060000000000002,3.33,6.33,0.99,1.82,0.5],\"yaxis\":\"y\",\"type\":\"scatter\"}],                        {\"template\":{\"data\":{\"barpolar\":[{\"marker\":{\"line\":{\"color\":\"white\",\"width\":0.5},\"pattern\":{\"fillmode\":\"overlay\",\"size\":10,\"solidity\":0.2}},\"type\":\"barpolar\"}],\"bar\":[{\"error_x\":{\"color\":\"#2a3f5f\"},\"error_y\":{\"color\":\"#2a3f5f\"},\"marker\":{\"line\":{\"color\":\"white\",\"width\":0.5},\"pattern\":{\"fillmode\":\"overlay\",\"size\":10,\"solidity\":0.2}},\"type\":\"bar\"}],\"carpet\":[{\"aaxis\":{\"endlinecolor\":\"#2a3f5f\",\"gridcolor\":\"#C8D4E3\",\"linecolor\":\"#C8D4E3\",\"minorgridcolor\":\"#C8D4E3\",\"startlinecolor\":\"#2a3f5f\"},\"baxis\":{\"endlinecolor\":\"#2a3f5f\",\"gridcolor\":\"#C8D4E3\",\"linecolor\":\"#C8D4E3\",\"minorgridcolor\":\"#C8D4E3\",\"startlinecolor\":\"#2a3f5f\"},\"type\":\"carpet\"}],\"choropleth\":[{\"colorbar\":{\"outlinewidth\":0,\"ticks\":\"\"},\"type\":\"choropleth\"}],\"contourcarpet\":[{\"colorbar\":{\"outlinewidth\":0,\"ticks\":\"\"},\"type\":\"contourcarpet\"}],\"contour\":[{\"colorbar\":{\"outlinewidth\":0,\"ticks\":\"\"},\"colorscale\":[[0.0,\"#0d0887\"],[0.1111111111111111,\"#46039f\"],[0.2222222222222222,\"#7201a8\"],[0.3333333333333333,\"#9c179e\"],[0.4444444444444444,\"#bd3786\"],[0.5555555555555556,\"#d8576b\"],[0.6666666666666666,\"#ed7953\"],[0.7777777777777778,\"#fb9f3a\"],[0.8888888888888888,\"#fdca26\"],[1.0,\"#f0f921\"]],\"type\":\"contour\"}],\"heatmapgl\":[{\"colorbar\":{\"outlinewidth\":0,\"ticks\":\"\"},\"colorscale\":[[0.0,\"#0d0887\"],[0.1111111111111111,\"#46039f\"],[0.2222222222222222,\"#7201a8\"],[0.3333333333333333,\"#9c179e\"],[0.4444444444444444,\"#bd3786\"],[0.5555555555555556,\"#d8576b\"],[0.6666666666666666,\"#ed7953\"],[0.7777777777777778,\"#fb9f3a\"],[0.8888888888888888,\"#fdca26\"],[1.0,\"#f0f921\"]],\"type\":\"heatmapgl\"}],\"heatmap\":[{\"colorbar\":{\"outlinewidth\":0,\"ticks\":\"\"},\"colorscale\":[[0.0,\"#0d0887\"],[0.1111111111111111,\"#46039f\"],[0.2222222222222222,\"#7201a8\"],[0.3333333333333333,\"#9c179e\"],[0.4444444444444444,\"#bd3786\"],[0.5555555555555556,\"#d8576b\"],[0.6666666666666666,\"#ed7953\"],[0.7777777777777778,\"#fb9f3a\"],[0.8888888888888888,\"#fdca26\"],[1.0,\"#f0f921\"]],\"type\":\"heatmap\"}],\"histogram2dcontour\":[{\"colorbar\":{\"outlinewidth\":0,\"ticks\":\"\"},\"colorscale\":[[0.0,\"#0d0887\"],[0.1111111111111111,\"#46039f\"],[0.2222222222222222,\"#7201a8\"],[0.3333333333333333,\"#9c179e\"],[0.4444444444444444,\"#bd3786\"],[0.5555555555555556,\"#d8576b\"],[0.6666666666666666,\"#ed7953\"],[0.7777777777777778,\"#fb9f3a\"],[0.8888888888888888,\"#fdca26\"],[1.0,\"#f0f921\"]],\"type\":\"histogram2dcontour\"}],\"histogram2d\":[{\"colorbar\":{\"outlinewidth\":0,\"ticks\":\"\"},\"colorscale\":[[0.0,\"#0d0887\"],[0.1111111111111111,\"#46039f\"],[0.2222222222222222,\"#7201a8\"],[0.3333333333333333,\"#9c179e\"],[0.4444444444444444,\"#bd3786\"],[0.5555555555555556,\"#d8576b\"],[0.6666666666666666,\"#ed7953\"],[0.7777777777777778,\"#fb9f3a\"],[0.8888888888888888,\"#fdca26\"],[1.0,\"#f0f921\"]],\"type\":\"histogram2d\"}],\"histogram\":[{\"marker\":{\"pattern\":{\"fillmode\":\"overlay\",\"size\":10,\"solidity\":0.2}},\"type\":\"histogram\"}],\"mesh3d\":[{\"colorbar\":{\"outlinewidth\":0,\"ticks\":\"\"},\"type\":\"mesh3d\"}],\"parcoords\":[{\"line\":{\"colorbar\":{\"outlinewidth\":0,\"ticks\":\"\"}},\"type\":\"parcoords\"}],\"pie\":[{\"automargin\":true,\"type\":\"pie\"}],\"scatter3d\":[{\"line\":{\"colorbar\":{\"outlinewidth\":0,\"ticks\":\"\"}},\"marker\":{\"colorbar\":{\"outlinewidth\":0,\"ticks\":\"\"}},\"type\":\"scatter3d\"}],\"scattercarpet\":[{\"marker\":{\"colorbar\":{\"outlinewidth\":0,\"ticks\":\"\"}},\"type\":\"scattercarpet\"}],\"scattergeo\":[{\"marker\":{\"colorbar\":{\"outlinewidth\":0,\"ticks\":\"\"}},\"type\":\"scattergeo\"}],\"scattergl\":[{\"marker\":{\"colorbar\":{\"outlinewidth\":0,\"ticks\":\"\"}},\"type\":\"scattergl\"}],\"scattermapbox\":[{\"marker\":{\"colorbar\":{\"outlinewidth\":0,\"ticks\":\"\"}},\"type\":\"scattermapbox\"}],\"scatterpolargl\":[{\"marker\":{\"colorbar\":{\"outlinewidth\":0,\"ticks\":\"\"}},\"type\":\"scatterpolargl\"}],\"scatterpolar\":[{\"marker\":{\"colorbar\":{\"outlinewidth\":0,\"ticks\":\"\"}},\"type\":\"scatterpolar\"}],\"scatter\":[{\"marker\":{\"colorbar\":{\"outlinewidth\":0,\"ticks\":\"\"}},\"type\":\"scatter\"}],\"scatterternary\":[{\"marker\":{\"colorbar\":{\"outlinewidth\":0,\"ticks\":\"\"}},\"type\":\"scatterternary\"}],\"surface\":[{\"colorbar\":{\"outlinewidth\":0,\"ticks\":\"\"},\"colorscale\":[[0.0,\"#0d0887\"],[0.1111111111111111,\"#46039f\"],[0.2222222222222222,\"#7201a8\"],[0.3333333333333333,\"#9c179e\"],[0.4444444444444444,\"#bd3786\"],[0.5555555555555556,\"#d8576b\"],[0.6666666666666666,\"#ed7953\"],[0.7777777777777778,\"#fb9f3a\"],[0.8888888888888888,\"#fdca26\"],[1.0,\"#f0f921\"]],\"type\":\"surface\"}],\"table\":[{\"cells\":{\"fill\":{\"color\":\"#EBF0F8\"},\"line\":{\"color\":\"white\"}},\"header\":{\"fill\":{\"color\":\"#C8D4E3\"},\"line\":{\"color\":\"white\"}},\"type\":\"table\"}]},\"layout\":{\"annotationdefaults\":{\"arrowcolor\":\"#2a3f5f\",\"arrowhead\":0,\"arrowwidth\":1},\"autotypenumbers\":\"strict\",\"coloraxis\":{\"colorbar\":{\"outlinewidth\":0,\"ticks\":\"\"}},\"colorscale\":{\"diverging\":[[0,\"#8e0152\"],[0.1,\"#c51b7d\"],[0.2,\"#de77ae\"],[0.3,\"#f1b6da\"],[0.4,\"#fde0ef\"],[0.5,\"#f7f7f7\"],[0.6,\"#e6f5d0\"],[0.7,\"#b8e186\"],[0.8,\"#7fbc41\"],[0.9,\"#4d9221\"],[1,\"#276419\"]],\"sequential\":[[0.0,\"#0d0887\"],[0.1111111111111111,\"#46039f\"],[0.2222222222222222,\"#7201a8\"],[0.3333333333333333,\"#9c179e\"],[0.4444444444444444,\"#bd3786\"],[0.5555555555555556,\"#d8576b\"],[0.6666666666666666,\"#ed7953\"],[0.7777777777777778,\"#fb9f3a\"],[0.8888888888888888,\"#fdca26\"],[1.0,\"#f0f921\"]],\"sequentialminus\":[[0.0,\"#0d0887\"],[0.1111111111111111,\"#46039f\"],[0.2222222222222222,\"#7201a8\"],[0.3333333333333333,\"#9c179e\"],[0.4444444444444444,\"#bd3786\"],[0.5555555555555556,\"#d8576b\"],[0.6666666666666666,\"#ed7953\"],[0.7777777777777778,\"#fb9f3a\"],[0.8888888888888888,\"#fdca26\"],[1.0,\"#f0f921\"]]},\"colorway\":[\"#636efa\",\"#EF553B\",\"#00cc96\",\"#ab63fa\",\"#FFA15A\",\"#19d3f3\",\"#FF6692\",\"#B6E880\",\"#FF97FF\",\"#FECB52\"],\"font\":{\"color\":\"#2a3f5f\"},\"geo\":{\"bgcolor\":\"white\",\"lakecolor\":\"white\",\"landcolor\":\"white\",\"showlakes\":true,\"showland\":true,\"subunitcolor\":\"#C8D4E3\"},\"hoverlabel\":{\"align\":\"left\"},\"hovermode\":\"closest\",\"mapbox\":{\"style\":\"light\"},\"paper_bgcolor\":\"white\",\"plot_bgcolor\":\"white\",\"polar\":{\"angularaxis\":{\"gridcolor\":\"#EBF0F8\",\"linecolor\":\"#EBF0F8\",\"ticks\":\"\"},\"bgcolor\":\"white\",\"radialaxis\":{\"gridcolor\":\"#EBF0F8\",\"linecolor\":\"#EBF0F8\",\"ticks\":\"\"}},\"scene\":{\"xaxis\":{\"backgroundcolor\":\"white\",\"gridcolor\":\"#DFE8F3\",\"gridwidth\":2,\"linecolor\":\"#EBF0F8\",\"showbackground\":true,\"ticks\":\"\",\"zerolinecolor\":\"#EBF0F8\"},\"yaxis\":{\"backgroundcolor\":\"white\",\"gridcolor\":\"#DFE8F3\",\"gridwidth\":2,\"linecolor\":\"#EBF0F8\",\"showbackground\":true,\"ticks\":\"\",\"zerolinecolor\":\"#EBF0F8\"},\"zaxis\":{\"backgroundcolor\":\"white\",\"gridcolor\":\"#DFE8F3\",\"gridwidth\":2,\"linecolor\":\"#EBF0F8\",\"showbackground\":true,\"ticks\":\"\",\"zerolinecolor\":\"#EBF0F8\"}},\"shapedefaults\":{\"line\":{\"color\":\"#2a3f5f\"}},\"ternary\":{\"aaxis\":{\"gridcolor\":\"#DFE8F3\",\"linecolor\":\"#A2B1C6\",\"ticks\":\"\"},\"baxis\":{\"gridcolor\":\"#DFE8F3\",\"linecolor\":\"#A2B1C6\",\"ticks\":\"\"},\"bgcolor\":\"white\",\"caxis\":{\"gridcolor\":\"#DFE8F3\",\"linecolor\":\"#A2B1C6\",\"ticks\":\"\"}},\"title\":{\"x\":0.05},\"xaxis\":{\"automargin\":true,\"gridcolor\":\"#EBF0F8\",\"linecolor\":\"#EBF0F8\",\"ticks\":\"\",\"title\":{\"standoff\":15},\"zerolinecolor\":\"#EBF0F8\",\"zerolinewidth\":2},\"yaxis\":{\"automargin\":true,\"gridcolor\":\"#EBF0F8\",\"linecolor\":\"#EBF0F8\",\"ticks\":\"\",\"title\":{\"standoff\":15},\"zerolinecolor\":\"#EBF0F8\",\"zerolinewidth\":2}}},\"xaxis\":{\"anchor\":\"y\",\"domain\":[0.0,1.0],\"title\":{\"text\":\"Year\"}},\"yaxis\":{\"anchor\":\"x\",\"domain\":[0.0,1.0],\"title\":{\"text\":\"Global_Sales\"}},\"legend\":{\"title\":{\"text\":\"Genre\"},\"tracegroupgap\":0},\"margin\":{\"t\":60},\"title\":{\"text\":\"Genre global sales through time\"}},                        {\"responsive\": true}                    ).then(function(){\n",
              "                            \n",
              "var gd = document.getElementById('d9f62cef-b714-4bc4-a477-a604b873a857');\n",
              "var x = new MutationObserver(function (mutations, observer) {{\n",
              "        var display = window.getComputedStyle(gd).display;\n",
              "        if (!display || display === 'none') {{\n",
              "            console.log([gd, 'removed!']);\n",
              "            Plotly.purge(gd);\n",
              "            observer.disconnect();\n",
              "        }}\n",
              "}});\n",
              "\n",
              "// Listen for the removal of the full notebook cells\n",
              "var notebookContainer = gd.closest('#notebook-container');\n",
              "if (notebookContainer) {{\n",
              "    x.observe(notebookContainer, {childList: true});\n",
              "}}\n",
              "\n",
              "// Listen for the clearing of the current output cell\n",
              "var outputEl = gd.closest('.output');\n",
              "if (outputEl) {{\n",
              "    x.observe(outputEl, {childList: true});\n",
              "}}\n",
              "\n",
              "                        })                };                            </script>        </div>\n",
              "</body>\n",
              "</html>"
            ]
          },
          "metadata": {}
        }
      ]
    },
    {
      "cell_type": "markdown",
      "source": [
        "**Resposta:**\n",
        "- Entre 1980 e 1990 sobressaíram as vendas de plataforma, tiro (shooter) e puzzle.\n",
        "- Entre 2000 e 2015 teve vendas elevadas de jogos de ação e esporte."
      ],
      "metadata": {
        "id": "913L3sI7esdU"
      }
    },
    {
      "cell_type": "markdown",
      "source": [
        "## Questão 7\n",
        "\n",
        "Registre a tabela usando `createOrReplaceTempView` e faça uso da linguagem SQL criar uma tabela que:\n",
        "- Considere apenas os anos da década de 90 e \n",
        "- Agrupe por ano para responder quantos % cada região teve do total de vendas (vendas globais).\n",
        "\n",
        "Salve o resultado desta query em uma variável chamada `df_questao7`.\n",
        "\n",
        "Após isso, execute o seguinte comando `df_questao7.pandas_api().set_index('YEAR').style.background_gradient(cmap='Oranges')` e responda:\n",
        "- Qual/quais regiões tiveram, relativamente (comparado às vendas globais), mais vendas no fim da década de noventa do que no início?\n",
        "\n",
        "\n",
        "\n",
        "\n",
        "\n",
        "\n"
      ],
      "metadata": {
        "id": "Ia7efqBLDCup"
      }
    },
    {
      "cell_type": "code",
      "source": [
        "df.createOrReplaceTempView('table')\n",
        "\n",
        "query = \"\"\"\n",
        "SELECT\n",
        "  YEAR,\n",
        "  ROUND(SUM(NA_Sales) / SUM(Global_Sales) * 100, 2) AS NA_Sales_PCT,\n",
        "  ROUND(SUM(EU_Sales) / SUM(Global_Sales) * 100, 2) AS EU_Sales_PCT,\n",
        "  ROUND(SUM(JP_Sales) / SUM(Global_Sales) * 100, 2) AS JP_Sales_PCT,\n",
        "  ROUND(SUM(Other_Sales) / SUM(Global_Sales) * 100, 2) AS Other_Sales_PCT\n",
        "FROM\n",
        "  table\n",
        "WHERE\n",
        "  YEAR BETWEEN 1990 AND 1999\n",
        "GROUP BY\n",
        "  YEAR\n",
        "ORDER BY\n",
        "  YEAR\n",
        "\"\"\"\n",
        "\n",
        "df_questao7 = spark.sql(query)\n",
        "df_questao7.show()"
      ],
      "metadata": {
        "colab": {
          "base_uri": "https://localhost:8080/"
        },
        "id": "GgA1f-WiIfcV",
        "outputId": "41090e09-a7d5-4f20-88ad-893771bd6135"
      },
      "execution_count": null,
      "outputs": [
        {
          "output_type": "stream",
          "name": "stdout",
          "text": [
            "+----+------------+------------+------------+---------------+\n",
            "|YEAR|NA_Sales_PCT|EU_Sales_PCT|JP_Sales_PCT|Other_Sales_PCT|\n",
            "+----+------------+------------+------------+---------------+\n",
            "|1990|       51.55|       15.45|       30.13|           2.83|\n",
            "|1991|       39.59|       12.26|       45.86|            2.3|\n",
            "|1992|       44.47|       15.38|       37.96|           2.17|\n",
            "|1993|       32.88|       10.11|       55.09|           1.94|\n",
            "|1994|       35.56|       18.79|       42.93|           2.78|\n",
            "|1995|       28.17|       16.91|       51.92|            3.0|\n",
            "|1996|       43.57|       23.73|       28.84|           3.86|\n",
            "|1997|       47.14|       24.04|       24.32|           4.54|\n",
            "|1998|       50.05|       26.08|       19.51|            4.3|\n",
            "|1999|       50.17|       24.94|       20.83|            4.0|\n",
            "+----+------------+------------+------------+---------------+\n",
            "\n"
          ]
        }
      ]
    },
    {
      "cell_type": "code",
      "source": [
        "df_questao7.pandas_api().set_index('YEAR').style.background_gradient(cmap='Oranges')"
      ],
      "metadata": {
        "colab": {
          "base_uri": "https://localhost:8080/",
          "height": 394
        },
        "id": "jmywdfiUUB4p",
        "outputId": "9c2a7d7d-decc-4d5a-a40b-ad1ddbf66192"
      },
      "execution_count": null,
      "outputs": [
        {
          "output_type": "execute_result",
          "data": {
            "text/plain": [
              "<pandas.io.formats.style.Styler at 0x7f055822ebb0>"
            ],
            "text/html": [
              "<style type=\"text/css\">\n",
              "#T_1bbd5_row0_col0, #T_1bbd5_row3_col2, #T_1bbd5_row7_col3, #T_1bbd5_row8_col1 {\n",
              "  background-color: #7f2704;\n",
              "  color: #f1f1f1;\n",
              "}\n",
              "#T_1bbd5_row0_col1 {\n",
              "  background-color: #fdb97d;\n",
              "  color: #000000;\n",
              "}\n",
              "#T_1bbd5_row0_col2 {\n",
              "  background-color: #fdc38d;\n",
              "  color: #000000;\n",
              "}\n",
              "#T_1bbd5_row0_col3 {\n",
              "  background-color: #fdb77a;\n",
              "  color: #000000;\n",
              "}\n",
              "#T_1bbd5_row1_col0 {\n",
              "  background-color: #fd9040;\n",
              "  color: #000000;\n",
              "}\n",
              "#T_1bbd5_row1_col1, #T_1bbd5_row7_col2 {\n",
              "  background-color: #fee5cb;\n",
              "  color: #000000;\n",
              "}\n",
              "#T_1bbd5_row1_col2, #T_1bbd5_row6_col3 {\n",
              "  background-color: #db4a02;\n",
              "  color: #f1f1f1;\n",
              "}\n",
              "#T_1bbd5_row1_col3 {\n",
              "  background-color: #fee4ca;\n",
              "  color: #000000;\n",
              "}\n",
              "#T_1bbd5_row2_col0 {\n",
              "  background-color: #e35608;\n",
              "  color: #f1f1f1;\n",
              "}\n",
              "#T_1bbd5_row2_col1 {\n",
              "  background-color: #fdba7f;\n",
              "  color: #000000;\n",
              "}\n",
              "#T_1bbd5_row2_col2 {\n",
              "  background-color: #fb8836;\n",
              "  color: #f1f1f1;\n",
              "}\n",
              "#T_1bbd5_row2_col3 {\n",
              "  background-color: #feebd7;\n",
              "  color: #000000;\n",
              "}\n",
              "#T_1bbd5_row3_col0 {\n",
              "  background-color: #fdd9b4;\n",
              "  color: #000000;\n",
              "}\n",
              "#T_1bbd5_row3_col1, #T_1bbd5_row3_col3, #T_1bbd5_row5_col0, #T_1bbd5_row8_col2 {\n",
              "  background-color: #fff5eb;\n",
              "  color: #000000;\n",
              "}\n",
              "#T_1bbd5_row4_col0 {\n",
              "  background-color: #fdbf86;\n",
              "  color: #000000;\n",
              "}\n",
              "#T_1bbd5_row4_col1 {\n",
              "  background-color: #f9802d;\n",
              "  color: #f1f1f1;\n",
              "}\n",
              "#T_1bbd5_row4_col2, #T_1bbd5_row6_col0 {\n",
              "  background-color: #eb600e;\n",
              "  color: #f1f1f1;\n",
              "}\n",
              "#T_1bbd5_row4_col3 {\n",
              "  background-color: #fdbd83;\n",
              "  color: #000000;\n",
              "}\n",
              "#T_1bbd5_row5_col1 {\n",
              "  background-color: #fda057;\n",
              "  color: #000000;\n",
              "}\n",
              "#T_1bbd5_row5_col2 {\n",
              "  background-color: #9a3103;\n",
              "  color: #f1f1f1;\n",
              "}\n",
              "#T_1bbd5_row5_col3 {\n",
              "  background-color: #fda55f;\n",
              "  color: #000000;\n",
              "}\n",
              "#T_1bbd5_row6_col1 {\n",
              "  background-color: #ae3903;\n",
              "  color: #f1f1f1;\n",
              "}\n",
              "#T_1bbd5_row6_col2 {\n",
              "  background-color: #fdcd9c;\n",
              "  color: #000000;\n",
              "}\n",
              "#T_1bbd5_row7_col0 {\n",
              "  background-color: #c03f02;\n",
              "  color: #f1f1f1;\n",
              "}\n",
              "#T_1bbd5_row7_col1 {\n",
              "  background-color: #a63603;\n",
              "  color: #f1f1f1;\n",
              "}\n",
              "#T_1bbd5_row8_col0 {\n",
              "  background-color: #932f03;\n",
              "  color: #f1f1f1;\n",
              "}\n",
              "#T_1bbd5_row8_col3 {\n",
              "  background-color: #9b3203;\n",
              "  color: #f1f1f1;\n",
              "}\n",
              "#T_1bbd5_row9_col0 {\n",
              "  background-color: #912e04;\n",
              "  color: #f1f1f1;\n",
              "}\n",
              "#T_1bbd5_row9_col1 {\n",
              "  background-color: #952f03;\n",
              "  color: #f1f1f1;\n",
              "}\n",
              "#T_1bbd5_row9_col2 {\n",
              "  background-color: #fff1e3;\n",
              "  color: #000000;\n",
              "}\n",
              "#T_1bbd5_row9_col3 {\n",
              "  background-color: #c84202;\n",
              "  color: #f1f1f1;\n",
              "}\n",
              "</style>\n",
              "<table id=\"T_1bbd5_\" class=\"dataframe\">\n",
              "  <thead>\n",
              "    <tr>\n",
              "      <th class=\"blank level0\" >&nbsp;</th>\n",
              "      <th class=\"col_heading level0 col0\" >NA_Sales_PCT</th>\n",
              "      <th class=\"col_heading level0 col1\" >EU_Sales_PCT</th>\n",
              "      <th class=\"col_heading level0 col2\" >JP_Sales_PCT</th>\n",
              "      <th class=\"col_heading level0 col3\" >Other_Sales_PCT</th>\n",
              "    </tr>\n",
              "    <tr>\n",
              "      <th class=\"index_name level0\" >YEAR</th>\n",
              "      <th class=\"blank col0\" >&nbsp;</th>\n",
              "      <th class=\"blank col1\" >&nbsp;</th>\n",
              "      <th class=\"blank col2\" >&nbsp;</th>\n",
              "      <th class=\"blank col3\" >&nbsp;</th>\n",
              "    </tr>\n",
              "  </thead>\n",
              "  <tbody>\n",
              "    <tr>\n",
              "      <th id=\"T_1bbd5_level0_row0\" class=\"row_heading level0 row0\" >1990</th>\n",
              "      <td id=\"T_1bbd5_row0_col0\" class=\"data row0 col0\" >51.550000</td>\n",
              "      <td id=\"T_1bbd5_row0_col1\" class=\"data row0 col1\" >15.450000</td>\n",
              "      <td id=\"T_1bbd5_row0_col2\" class=\"data row0 col2\" >30.130000</td>\n",
              "      <td id=\"T_1bbd5_row0_col3\" class=\"data row0 col3\" >2.830000</td>\n",
              "    </tr>\n",
              "    <tr>\n",
              "      <th id=\"T_1bbd5_level0_row1\" class=\"row_heading level0 row1\" >1991</th>\n",
              "      <td id=\"T_1bbd5_row1_col0\" class=\"data row1 col0\" >39.590000</td>\n",
              "      <td id=\"T_1bbd5_row1_col1\" class=\"data row1 col1\" >12.260000</td>\n",
              "      <td id=\"T_1bbd5_row1_col2\" class=\"data row1 col2\" >45.860000</td>\n",
              "      <td id=\"T_1bbd5_row1_col3\" class=\"data row1 col3\" >2.300000</td>\n",
              "    </tr>\n",
              "    <tr>\n",
              "      <th id=\"T_1bbd5_level0_row2\" class=\"row_heading level0 row2\" >1992</th>\n",
              "      <td id=\"T_1bbd5_row2_col0\" class=\"data row2 col0\" >44.470000</td>\n",
              "      <td id=\"T_1bbd5_row2_col1\" class=\"data row2 col1\" >15.380000</td>\n",
              "      <td id=\"T_1bbd5_row2_col2\" class=\"data row2 col2\" >37.960000</td>\n",
              "      <td id=\"T_1bbd5_row2_col3\" class=\"data row2 col3\" >2.170000</td>\n",
              "    </tr>\n",
              "    <tr>\n",
              "      <th id=\"T_1bbd5_level0_row3\" class=\"row_heading level0 row3\" >1993</th>\n",
              "      <td id=\"T_1bbd5_row3_col0\" class=\"data row3 col0\" >32.880000</td>\n",
              "      <td id=\"T_1bbd5_row3_col1\" class=\"data row3 col1\" >10.110000</td>\n",
              "      <td id=\"T_1bbd5_row3_col2\" class=\"data row3 col2\" >55.090000</td>\n",
              "      <td id=\"T_1bbd5_row3_col3\" class=\"data row3 col3\" >1.940000</td>\n",
              "    </tr>\n",
              "    <tr>\n",
              "      <th id=\"T_1bbd5_level0_row4\" class=\"row_heading level0 row4\" >1994</th>\n",
              "      <td id=\"T_1bbd5_row4_col0\" class=\"data row4 col0\" >35.560000</td>\n",
              "      <td id=\"T_1bbd5_row4_col1\" class=\"data row4 col1\" >18.790000</td>\n",
              "      <td id=\"T_1bbd5_row4_col2\" class=\"data row4 col2\" >42.930000</td>\n",
              "      <td id=\"T_1bbd5_row4_col3\" class=\"data row4 col3\" >2.780000</td>\n",
              "    </tr>\n",
              "    <tr>\n",
              "      <th id=\"T_1bbd5_level0_row5\" class=\"row_heading level0 row5\" >1995</th>\n",
              "      <td id=\"T_1bbd5_row5_col0\" class=\"data row5 col0\" >28.170000</td>\n",
              "      <td id=\"T_1bbd5_row5_col1\" class=\"data row5 col1\" >16.910000</td>\n",
              "      <td id=\"T_1bbd5_row5_col2\" class=\"data row5 col2\" >51.920000</td>\n",
              "      <td id=\"T_1bbd5_row5_col3\" class=\"data row5 col3\" >3.000000</td>\n",
              "    </tr>\n",
              "    <tr>\n",
              "      <th id=\"T_1bbd5_level0_row6\" class=\"row_heading level0 row6\" >1996</th>\n",
              "      <td id=\"T_1bbd5_row6_col0\" class=\"data row6 col0\" >43.570000</td>\n",
              "      <td id=\"T_1bbd5_row6_col1\" class=\"data row6 col1\" >23.730000</td>\n",
              "      <td id=\"T_1bbd5_row6_col2\" class=\"data row6 col2\" >28.840000</td>\n",
              "      <td id=\"T_1bbd5_row6_col3\" class=\"data row6 col3\" >3.860000</td>\n",
              "    </tr>\n",
              "    <tr>\n",
              "      <th id=\"T_1bbd5_level0_row7\" class=\"row_heading level0 row7\" >1997</th>\n",
              "      <td id=\"T_1bbd5_row7_col0\" class=\"data row7 col0\" >47.140000</td>\n",
              "      <td id=\"T_1bbd5_row7_col1\" class=\"data row7 col1\" >24.040000</td>\n",
              "      <td id=\"T_1bbd5_row7_col2\" class=\"data row7 col2\" >24.320000</td>\n",
              "      <td id=\"T_1bbd5_row7_col3\" class=\"data row7 col3\" >4.540000</td>\n",
              "    </tr>\n",
              "    <tr>\n",
              "      <th id=\"T_1bbd5_level0_row8\" class=\"row_heading level0 row8\" >1998</th>\n",
              "      <td id=\"T_1bbd5_row8_col0\" class=\"data row8 col0\" >50.050000</td>\n",
              "      <td id=\"T_1bbd5_row8_col1\" class=\"data row8 col1\" >26.080000</td>\n",
              "      <td id=\"T_1bbd5_row8_col2\" class=\"data row8 col2\" >19.510000</td>\n",
              "      <td id=\"T_1bbd5_row8_col3\" class=\"data row8 col3\" >4.300000</td>\n",
              "    </tr>\n",
              "    <tr>\n",
              "      <th id=\"T_1bbd5_level0_row9\" class=\"row_heading level0 row9\" >1999</th>\n",
              "      <td id=\"T_1bbd5_row9_col0\" class=\"data row9 col0\" >50.170000</td>\n",
              "      <td id=\"T_1bbd5_row9_col1\" class=\"data row9 col1\" >24.940000</td>\n",
              "      <td id=\"T_1bbd5_row9_col2\" class=\"data row9 col2\" >20.830000</td>\n",
              "      <td id=\"T_1bbd5_row9_col3\" class=\"data row9 col3\" >4.000000</td>\n",
              "    </tr>\n",
              "  </tbody>\n",
              "</table>\n"
            ]
          },
          "metadata": {},
          "execution_count": 35
        }
      ]
    },
    {
      "cell_type": "markdown",
      "source": [
        "## Questão 8\n",
        "\n",
        "Calcule quantas vezes cada região teve vendas superiores às demais."
      ],
      "metadata": {
        "id": "sGaTtlhATKJb"
      }
    },
    {
      "cell_type": "code",
      "source": [
        "regions = ['NA_Sales', 'EU_Sales', 'JP_Sales', 'Other_Sales']\n",
        "\n",
        "(\n",
        "  df\n",
        " .withColumn('max_sale', F.greatest(*regions))\n",
        " .withColumn(\n",
        "     'greatest_sale_region',\n",
        "     F.when(F.col('NA_Sales')==F.col('max_sale'), 'NA_Sales')\n",
        "     .when(F.col('EU_Sales')==F.col('max_sale'), 'EU_Sales')\n",
        "     .when(F.col('JP_Sales')==F.col('max_sale'), 'JP_Sales')\n",
        "     .otherwise('Other_Sales')\n",
        " )\n",
        " .groupby('greatest_sale_region')\n",
        " .count()\n",
        " .show()\n",
        ")"
      ],
      "metadata": {
        "colab": {
          "base_uri": "https://localhost:8080/"
        },
        "id": "NzfXWR6JH3iK",
        "outputId": "7d9b4ac2-87c2-44e0-d963-85ce6fe6cacf"
      },
      "execution_count": null,
      "outputs": [
        {
          "output_type": "stream",
          "name": "stdout",
          "text": [
            "+--------------------+-----+\n",
            "|greatest_sale_region|count|\n",
            "+--------------------+-----+\n",
            "|            EU_Sales| 2380|\n",
            "|            JP_Sales| 4029|\n",
            "|            NA_Sales|10113|\n",
            "|         Other_Sales|   76|\n",
            "+--------------------+-----+\n",
            "\n"
          ]
        }
      ]
    },
    {
      "cell_type": "markdown",
      "source": [
        "## Questão 9\n",
        "\n",
        "Construe uma tabela que mostre a diferença do total de vendas em um década com a década anterior e responda:\n",
        "- Qual década apresentou a **menor diferença** comparada à década anterior?"
      ],
      "metadata": {
        "id": "LxTa6E2WNOGR"
      }
    },
    {
      "cell_type": "code",
      "source": [
        "w = Window().orderBy('Decade')\n",
        "\n",
        "(\n",
        "  df\n",
        " .where('Year IS NOT NULL')\n",
        " .withColumn('Decade', F.floor(F.col('Year')/10)*10) # possível fazer com when, porém mais código necessário\n",
        " .groupby('Decade')\n",
        " .agg(F.sum('Global_Sales').alias('global_sales_sum'))\n",
        " .withColumn('global_sales_sum_lag', F.lag('global_sales_sum').over(w))\n",
        " .withColumn('Delta_global_sales_sum', F.col('global_sales_sum') - F.col('global_sales_sum_lag'))\n",
        " .orderBy(F.abs('Decade'))\n",
        " .show()\n",
        ")"
      ],
      "metadata": {
        "colab": {
          "base_uri": "https://localhost:8080/"
        },
        "id": "oczAWC82FBUQ",
        "outputId": "15f16037-27de-441f-87e6-26e8b988791c"
      },
      "execution_count": null,
      "outputs": [
        {
          "output_type": "stream",
          "name": "stdout",
          "text": [
            "+------+------------------+--------------------+----------------------+\n",
            "|Decade|  global_sales_sum|global_sales_sum_lag|Delta_global_sales_sum|\n",
            "+------+------------------+--------------------+----------------------+\n",
            "|  1980|376.58000000000004|                null|                  null|\n",
            "|  1990|1278.9099999999987|  376.58000000000004|     902.3299999999987|\n",
            "|  2000| 4644.020000000007|  1278.9099999999987|     3365.110000000008|\n",
            "|  2010| 2520.559999999984|   4644.020000000007|    -2123.460000000023|\n",
            "|  2020|              0.29|   2520.559999999984|    -2520.269999999984|\n",
            "+------+------------------+--------------------+----------------------+\n",
            "\n"
          ]
        }
      ]
    },
    {
      "cell_type": "markdown",
      "source": [
        "**Resposta:**\n",
        "- A década de 90 teve a menor diferença de vendas com a década anterior: ~902M"
      ],
      "metadata": {
        "id": "nF1QeTBO830s"
      }
    }
  ]
}